{
 "cells": [
  {
   "cell_type": "code",
   "execution_count": 2,
   "id": "a1ec0ef0-655b-48d7-ad30-fe6548d5484d",
   "metadata": {},
   "outputs": [],
   "source": [
    "import pandas as pd\n",
    "import numpy as np\n",
    "import matplotlib.pyplot as plt\n",
    "import seaborn as sns\n",
    "import nltk\n",
    "import string"
   ]
  },
  {
   "cell_type": "markdown",
   "id": "478d4265-2ece-4343-b06d-67a36bf35e7e",
   "metadata": {},
   "source": [
    "About Dataset:\n",
    "\n",
    "This is an entity-level sentiment analysis dataset of twitter.\n",
    "Given a message and an entity, the task is to judge the sentiment of the message about the entity. \n",
    "There are three classes in this dataset: Positive, Negative and Neutral. We regard messages that are not relevant to the entity (i.e. Irrelevant) as Neutral."
   ]
  },
  {
   "cell_type": "code",
   "execution_count": 5,
   "id": "ea86a8db-394d-4b96-8315-017c99024e58",
   "metadata": {},
   "outputs": [],
   "source": [
    "df=pd.read_csv(\"twitter_training.csv\",header=0)"
   ]
  },
  {
   "cell_type": "code",
   "execution_count": 7,
   "id": "3365ad6e-a2f0-47bc-a72d-7772e1934b82",
   "metadata": {},
   "outputs": [
    {
     "data": {
      "text/html": [
       "<div>\n",
       "<style scoped>\n",
       "    .dataframe tbody tr th:only-of-type {\n",
       "        vertical-align: middle;\n",
       "    }\n",
       "\n",
       "    .dataframe tbody tr th {\n",
       "        vertical-align: top;\n",
       "    }\n",
       "\n",
       "    .dataframe thead th {\n",
       "        text-align: right;\n",
       "    }\n",
       "</style>\n",
       "<table border=\"1\" class=\"dataframe\">\n",
       "  <thead>\n",
       "    <tr style=\"text-align: right;\">\n",
       "      <th></th>\n",
       "      <th>2401</th>\n",
       "      <th>Borderlands</th>\n",
       "      <th>Positive</th>\n",
       "      <th>im getting on borderlands and i will murder you all ,</th>\n",
       "    </tr>\n",
       "  </thead>\n",
       "  <tbody>\n",
       "    <tr>\n",
       "      <th>0</th>\n",
       "      <td>2401</td>\n",
       "      <td>Borderlands</td>\n",
       "      <td>Positive</td>\n",
       "      <td>I am coming to the borders and I will kill you...</td>\n",
       "    </tr>\n",
       "    <tr>\n",
       "      <th>1</th>\n",
       "      <td>2401</td>\n",
       "      <td>Borderlands</td>\n",
       "      <td>Positive</td>\n",
       "      <td>im getting on borderlands and i will kill you ...</td>\n",
       "    </tr>\n",
       "    <tr>\n",
       "      <th>2</th>\n",
       "      <td>2401</td>\n",
       "      <td>Borderlands</td>\n",
       "      <td>Positive</td>\n",
       "      <td>im coming on borderlands and i will murder you...</td>\n",
       "    </tr>\n",
       "    <tr>\n",
       "      <th>3</th>\n",
       "      <td>2401</td>\n",
       "      <td>Borderlands</td>\n",
       "      <td>Positive</td>\n",
       "      <td>im getting on borderlands 2 and i will murder ...</td>\n",
       "    </tr>\n",
       "    <tr>\n",
       "      <th>4</th>\n",
       "      <td>2401</td>\n",
       "      <td>Borderlands</td>\n",
       "      <td>Positive</td>\n",
       "      <td>im getting into borderlands and i can murder y...</td>\n",
       "    </tr>\n",
       "  </tbody>\n",
       "</table>\n",
       "</div>"
      ],
      "text/plain": [
       "   2401  Borderlands  Positive  \\\n",
       "0  2401  Borderlands  Positive   \n",
       "1  2401  Borderlands  Positive   \n",
       "2  2401  Borderlands  Positive   \n",
       "3  2401  Borderlands  Positive   \n",
       "4  2401  Borderlands  Positive   \n",
       "\n",
       "  im getting on borderlands and i will murder you all ,  \n",
       "0  I am coming to the borders and I will kill you...     \n",
       "1  im getting on borderlands and i will kill you ...     \n",
       "2  im coming on borderlands and i will murder you...     \n",
       "3  im getting on borderlands 2 and i will murder ...     \n",
       "4  im getting into borderlands and i can murder y...     "
      ]
     },
     "execution_count": 7,
     "metadata": {},
     "output_type": "execute_result"
    }
   ],
   "source": [
    "df.head()"
   ]
  },
  {
   "cell_type": "code",
   "execution_count": 9,
   "id": "6ced4b40-34f0-4b77-9e35-449639367a6e",
   "metadata": {},
   "outputs": [],
   "source": [
    "df.columns=['Id','Entity','Sentiment','Tweet']"
   ]
  },
  {
   "cell_type": "code",
   "execution_count": 11,
   "id": "4e585ba6-8563-4bca-ad74-beea0a023e22",
   "metadata": {},
   "outputs": [
    {
     "data": {
      "text/html": [
       "<div>\n",
       "<style scoped>\n",
       "    .dataframe tbody tr th:only-of-type {\n",
       "        vertical-align: middle;\n",
       "    }\n",
       "\n",
       "    .dataframe tbody tr th {\n",
       "        vertical-align: top;\n",
       "    }\n",
       "\n",
       "    .dataframe thead th {\n",
       "        text-align: right;\n",
       "    }\n",
       "</style>\n",
       "<table border=\"1\" class=\"dataframe\">\n",
       "  <thead>\n",
       "    <tr style=\"text-align: right;\">\n",
       "      <th></th>\n",
       "      <th>Id</th>\n",
       "      <th>Entity</th>\n",
       "      <th>Sentiment</th>\n",
       "      <th>Tweet</th>\n",
       "    </tr>\n",
       "  </thead>\n",
       "  <tbody>\n",
       "    <tr>\n",
       "      <th>0</th>\n",
       "      <td>2401</td>\n",
       "      <td>Borderlands</td>\n",
       "      <td>Positive</td>\n",
       "      <td>I am coming to the borders and I will kill you...</td>\n",
       "    </tr>\n",
       "    <tr>\n",
       "      <th>1</th>\n",
       "      <td>2401</td>\n",
       "      <td>Borderlands</td>\n",
       "      <td>Positive</td>\n",
       "      <td>im getting on borderlands and i will kill you ...</td>\n",
       "    </tr>\n",
       "    <tr>\n",
       "      <th>2</th>\n",
       "      <td>2401</td>\n",
       "      <td>Borderlands</td>\n",
       "      <td>Positive</td>\n",
       "      <td>im coming on borderlands and i will murder you...</td>\n",
       "    </tr>\n",
       "    <tr>\n",
       "      <th>3</th>\n",
       "      <td>2401</td>\n",
       "      <td>Borderlands</td>\n",
       "      <td>Positive</td>\n",
       "      <td>im getting on borderlands 2 and i will murder ...</td>\n",
       "    </tr>\n",
       "    <tr>\n",
       "      <th>4</th>\n",
       "      <td>2401</td>\n",
       "      <td>Borderlands</td>\n",
       "      <td>Positive</td>\n",
       "      <td>im getting into borderlands and i can murder y...</td>\n",
       "    </tr>\n",
       "  </tbody>\n",
       "</table>\n",
       "</div>"
      ],
      "text/plain": [
       "     Id       Entity Sentiment  \\\n",
       "0  2401  Borderlands  Positive   \n",
       "1  2401  Borderlands  Positive   \n",
       "2  2401  Borderlands  Positive   \n",
       "3  2401  Borderlands  Positive   \n",
       "4  2401  Borderlands  Positive   \n",
       "\n",
       "                                               Tweet  \n",
       "0  I am coming to the borders and I will kill you...  \n",
       "1  im getting on borderlands and i will kill you ...  \n",
       "2  im coming on borderlands and i will murder you...  \n",
       "3  im getting on borderlands 2 and i will murder ...  \n",
       "4  im getting into borderlands and i can murder y...  "
      ]
     },
     "execution_count": 11,
     "metadata": {},
     "output_type": "execute_result"
    }
   ],
   "source": [
    "df.head()"
   ]
  },
  {
   "cell_type": "code",
   "execution_count": 13,
   "id": "dad0071b-c09c-4e27-9bba-c18ac88e128b",
   "metadata": {},
   "outputs": [
    {
     "data": {
      "text/plain": [
       "(74681, 4)"
      ]
     },
     "execution_count": 13,
     "metadata": {},
     "output_type": "execute_result"
    }
   ],
   "source": [
    "df.shape"
   ]
  },
  {
   "cell_type": "code",
   "execution_count": 15,
   "id": "edc00d44-a12f-44cb-b20b-95b93ad3ca39",
   "metadata": {},
   "outputs": [
    {
     "name": "stdout",
     "output_type": "stream",
     "text": [
      "<class 'pandas.core.frame.DataFrame'>\n",
      "RangeIndex: 74681 entries, 0 to 74680\n",
      "Data columns (total 4 columns):\n",
      " #   Column     Non-Null Count  Dtype \n",
      "---  ------     --------------  ----- \n",
      " 0   Id         74681 non-null  int64 \n",
      " 1   Entity     74681 non-null  object\n",
      " 2   Sentiment  74681 non-null  object\n",
      " 3   Tweet      73995 non-null  object\n",
      "dtypes: int64(1), object(3)\n",
      "memory usage: 2.3+ MB\n"
     ]
    }
   ],
   "source": [
    "df.info()"
   ]
  },
  {
   "cell_type": "code",
   "execution_count": 17,
   "id": "b6965778-e3a2-46c5-939a-234fd6b7fe6e",
   "metadata": {},
   "outputs": [
    {
     "data": {
      "text/plain": [
       "2700"
      ]
     },
     "execution_count": 17,
     "metadata": {},
     "output_type": "execute_result"
    }
   ],
   "source": [
    "df.duplicated().sum()"
   ]
  },
  {
   "cell_type": "code",
   "execution_count": 19,
   "id": "18117957-e144-48c8-ba02-c1cea668c068",
   "metadata": {},
   "outputs": [],
   "source": [
    "df=df.drop_duplicates(keep='first')"
   ]
  },
  {
   "cell_type": "code",
   "execution_count": 21,
   "id": "457d55d3-b738-4796-bcc9-e592478bf9aa",
   "metadata": {},
   "outputs": [
    {
     "data": {
      "text/plain": [
       "Id             0\n",
       "Entity         0\n",
       "Sentiment      0\n",
       "Tweet        326\n",
       "dtype: int64"
      ]
     },
     "execution_count": 21,
     "metadata": {},
     "output_type": "execute_result"
    }
   ],
   "source": [
    "df.isnull().sum()"
   ]
  },
  {
   "cell_type": "code",
   "execution_count": 23,
   "id": "694736fc-a9a3-4ff3-b897-3e95700547db",
   "metadata": {},
   "outputs": [],
   "source": [
    "df=df.dropna()"
   ]
  },
  {
   "cell_type": "code",
   "execution_count": 25,
   "id": "bd7248c3-feb7-4f83-b004-30c9b13931d0",
   "metadata": {},
   "outputs": [
    {
     "data": {
      "text/plain": [
       "(71655, 4)"
      ]
     },
     "execution_count": 25,
     "metadata": {},
     "output_type": "execute_result"
    }
   ],
   "source": [
    "df.shape"
   ]
  },
  {
   "cell_type": "code",
   "execution_count": 27,
   "id": "a0b261b3-ce40-4ad0-8d14-ce6ab8f1ed9c",
   "metadata": {},
   "outputs": [],
   "source": [
    "df=df.drop(columns=['Id'])"
   ]
  },
  {
   "cell_type": "code",
   "execution_count": 29,
   "id": "88b4fae4-0a16-4640-a614-ec798fc5ff8d",
   "metadata": {},
   "outputs": [
    {
     "data": {
      "text/plain": [
       "Entity\n",
       "TomClancysRainbowSix                 2328\n",
       "Verizon                              2319\n",
       "MaddenNFL                            2315\n",
       "CallOfDuty                           2314\n",
       "Microsoft                            2304\n",
       "WorldOfCraft                         2300\n",
       "NBA2K                                2299\n",
       "LeagueOfLegends                      2296\n",
       "TomClancysGhostRecon                 2291\n",
       "Facebook                             2289\n",
       "ApexLegends                          2278\n",
       "johnson&johnson                      2257\n",
       "Battlefield                          2255\n",
       "Amazon                               2249\n",
       "CallOfDutyBlackopsColdWar            2242\n",
       "FIFA                                 2238\n",
       "Dota2                                2225\n",
       "Overwatch                            2220\n",
       "Hearthstone                          2219\n",
       "HomeDepot                            2216\n",
       "GrandTheftAuto(GTA)                  2208\n",
       "Borderlands                          2205\n",
       "Xbox(Xseries)                        2201\n",
       "Google                               2199\n",
       "Nvidia                               2198\n",
       "CS-GO                                2195\n",
       "PlayStation5(PS5)                    2183\n",
       "Fortnite                             2176\n",
       "Cyberpunk2077                        2175\n",
       "AssassinsCreed                       2156\n",
       "RedDeadRedemption(RDR)               2155\n",
       "PlayerUnknownsBattlegrounds(PUBG)    2150\n",
       "Name: count, dtype: int64"
      ]
     },
     "execution_count": 29,
     "metadata": {},
     "output_type": "execute_result"
    }
   ],
   "source": [
    "df['Entity'].value_counts()"
   ]
  },
  {
   "cell_type": "code",
   "execution_count": 31,
   "id": "ff83df04-947c-4f78-9702-fa0458fe9cad",
   "metadata": {},
   "outputs": [
    {
     "data": {
      "text/plain": [
       "Sentiment\n",
       "Negative      21698\n",
       "Positive      19712\n",
       "Neutral       17708\n",
       "Irrelevant    12537\n",
       "Name: count, dtype: int64"
      ]
     },
     "execution_count": 31,
     "metadata": {},
     "output_type": "execute_result"
    }
   ],
   "source": [
    "df['Sentiment'].value_counts()"
   ]
  },
  {
   "cell_type": "code",
   "execution_count": 33,
   "id": "c579f655-f58e-43dc-ad1f-cccefc554038",
   "metadata": {},
   "outputs": [
    {
     "data": {
      "image/png": "[encoded data removed]",
      "text/plain": [
       "<Figure size 640x480 with 1 Axes>"
      ]
     },
     "metadata": {},
     "output_type": "display_data"
    }
   ],
   "source": [
    "plt.pie(df['Sentiment'].value_counts(),autopct=\"%.2f\",labels=df['Sentiment'].unique())\n",
    "plt.show()"
   ]
  },
  {
   "cell_type": "markdown",
   "id": "7f226141-466b-4200-9fc6-d00c9b4c09d6",
   "metadata": {},
   "source": [
    "There is a slight imbalance in the classes."
   ]
  },
  {
   "cell_type": "code",
   "execution_count": 36,
   "id": "5ad77339-9c2b-4f21-a08a-cddfe44c919d",
   "metadata": {},
   "outputs": [
    {
     "data": {
      "text/plain": [
       "<Axes: xlabel='Sentiment', ylabel='count'>"
      ]
     },
     "execution_count": 36,
     "metadata": {},
     "output_type": "execute_result"
    },
    {
     "data": {
      "image/png": "[encoded data removed]",
      "text/plain": [
       "<Figure size 1300x500 with 1 Axes>"
      ]
     },
     "metadata": {},
     "output_type": "display_data"
    }
   ],
   "source": [
    "plt.figure(figsize = (13, 5))\n",
    "sns.countplot(data=df,x=\"Sentiment\",hue=\"Entity\")"
   ]
  },
  {
   "cell_type": "code",
   "execution_count": 29,
   "id": "83165f7d-cda0-4da2-99e7-721d2f956c8b",
   "metadata": {},
   "outputs": [],
   "source": [
    "df['Tweet']=df['Entity']+\" \"+df['Tweet']"
   ]
  },
  {
   "cell_type": "code",
   "execution_count": 31,
   "id": "1f54e14a-8db7-43ec-b495-f6ec8a2943aa",
   "metadata": {},
   "outputs": [],
   "source": [
    "df=df.drop(columns=['Entity'])"
   ]
  },
  {
   "cell_type": "code",
   "execution_count": 33,
   "id": "a68b4ecf-8fb2-48d2-9672-c36123e5988d",
   "metadata": {},
   "outputs": [
    {
     "data": {
      "text/html": [
       "<div>\n",
       "<style scoped>\n",
       "    .dataframe tbody tr th:only-of-type {\n",
       "        vertical-align: middle;\n",
       "    }\n",
       "\n",
       "    .dataframe tbody tr th {\n",
       "        vertical-align: top;\n",
       "    }\n",
       "\n",
       "    .dataframe thead th {\n",
       "        text-align: right;\n",
       "    }\n",
       "</style>\n",
       "<table border=\"1\" class=\"dataframe\">\n",
       "  <thead>\n",
       "    <tr style=\"text-align: right;\">\n",
       "      <th></th>\n",
       "      <th>Sentiment</th>\n",
       "      <th>Tweet</th>\n",
       "    </tr>\n",
       "  </thead>\n",
       "  <tbody>\n",
       "    <tr>\n",
       "      <th>0</th>\n",
       "      <td>Positive</td>\n",
       "      <td>Borderlands I am coming to the borders and I w...</td>\n",
       "    </tr>\n",
       "    <tr>\n",
       "      <th>1</th>\n",
       "      <td>Positive</td>\n",
       "      <td>Borderlands im getting on borderlands and i wi...</td>\n",
       "    </tr>\n",
       "    <tr>\n",
       "      <th>2</th>\n",
       "      <td>Positive</td>\n",
       "      <td>Borderlands im coming on borderlands and i wil...</td>\n",
       "    </tr>\n",
       "    <tr>\n",
       "      <th>3</th>\n",
       "      <td>Positive</td>\n",
       "      <td>Borderlands im getting on borderlands 2 and i ...</td>\n",
       "    </tr>\n",
       "    <tr>\n",
       "      <th>4</th>\n",
       "      <td>Positive</td>\n",
       "      <td>Borderlands im getting into borderlands and i ...</td>\n",
       "    </tr>\n",
       "  </tbody>\n",
       "</table>\n",
       "</div>"
      ],
      "text/plain": [
       "  Sentiment                                              Tweet\n",
       "0  Positive  Borderlands I am coming to the borders and I w...\n",
       "1  Positive  Borderlands im getting on borderlands and i wi...\n",
       "2  Positive  Borderlands im coming on borderlands and i wil...\n",
       "3  Positive  Borderlands im getting on borderlands 2 and i ...\n",
       "4  Positive  Borderlands im getting into borderlands and i ..."
      ]
     },
     "execution_count": 33,
     "metadata": {},
     "output_type": "execute_result"
    }
   ],
   "source": [
    "df.head()"
   ]
  },
  {
   "cell_type": "code",
   "execution_count": 200,
   "id": "8448567a-66c5-4510-9172-a3066e541509",
   "metadata": {},
   "outputs": [],
   "source": [
    "df['num_char']=df['Tweet'].apply(lambda x:len(x))"
   ]
  },
  {
   "cell_type": "code",
   "execution_count": 202,
   "id": "2b9874df-1f89-4c5d-9c9d-ab5c66b0d86c",
   "metadata": {},
   "outputs": [],
   "source": [
    "df['num_words']=df['Tweet'].apply(lambda x:len(nltk.word_tokenize(x)))"
   ]
  },
  {
   "cell_type": "code",
   "execution_count": 203,
   "id": "5bcc9411-c3a3-4c7a-849b-79fc107f531f",
   "metadata": {},
   "outputs": [],
   "source": [
    "df['num_sentences']=df['Tweet'].apply(lambda x:len(nltk.sent_tokenize(x)))"
   ]
  },
  {
   "cell_type": "code",
   "execution_count": 204,
   "id": "1f73bf6c-3ca8-410c-911a-06c47e58b2fd",
   "metadata": {},
   "outputs": [
    {
     "data": {
      "text/html": [
       "<div>\n",
       "<style scoped>\n",
       "    .dataframe tbody tr th:only-of-type {\n",
       "        vertical-align: middle;\n",
       "    }\n",
       "\n",
       "    .dataframe tbody tr th {\n",
       "        vertical-align: top;\n",
       "    }\n",
       "\n",
       "    .dataframe thead th {\n",
       "        text-align: right;\n",
       "    }\n",
       "</style>\n",
       "<table border=\"1\" class=\"dataframe\">\n",
       "  <thead>\n",
       "    <tr style=\"text-align: right;\">\n",
       "      <th></th>\n",
       "      <th>Sentiment</th>\n",
       "      <th>Tweet</th>\n",
       "      <th>num_char</th>\n",
       "      <th>num_words</th>\n",
       "      <th>num_sentences</th>\n",
       "    </tr>\n",
       "  </thead>\n",
       "  <tbody>\n",
       "    <tr>\n",
       "      <th>0</th>\n",
       "      <td>Positive</td>\n",
       "      <td>Borderlands I am coming to the borders and I w...</td>\n",
       "      <td>63</td>\n",
       "      <td>14</td>\n",
       "      <td>1</td>\n",
       "    </tr>\n",
       "    <tr>\n",
       "      <th>1</th>\n",
       "      <td>Positive</td>\n",
       "      <td>Borderlands im getting on borderlands and i wi...</td>\n",
       "      <td>62</td>\n",
       "      <td>12</td>\n",
       "      <td>1</td>\n",
       "    </tr>\n",
       "    <tr>\n",
       "      <th>2</th>\n",
       "      <td>Positive</td>\n",
       "      <td>Borderlands im coming on borderlands and i wil...</td>\n",
       "      <td>63</td>\n",
       "      <td>12</td>\n",
       "      <td>1</td>\n",
       "    </tr>\n",
       "    <tr>\n",
       "      <th>3</th>\n",
       "      <td>Positive</td>\n",
       "      <td>Borderlands im getting on borderlands 2 and i ...</td>\n",
       "      <td>69</td>\n",
       "      <td>14</td>\n",
       "      <td>1</td>\n",
       "    </tr>\n",
       "    <tr>\n",
       "      <th>4</th>\n",
       "      <td>Positive</td>\n",
       "      <td>Borderlands im getting into borderlands and i ...</td>\n",
       "      <td>65</td>\n",
       "      <td>12</td>\n",
       "      <td>1</td>\n",
       "    </tr>\n",
       "  </tbody>\n",
       "</table>\n",
       "</div>"
      ],
      "text/plain": [
       "  Sentiment                                              Tweet  num_char  \\\n",
       "0  Positive  Borderlands I am coming to the borders and I w...        63   \n",
       "1  Positive  Borderlands im getting on borderlands and i wi...        62   \n",
       "2  Positive  Borderlands im coming on borderlands and i wil...        63   \n",
       "3  Positive  Borderlands im getting on borderlands 2 and i ...        69   \n",
       "4  Positive  Borderlands im getting into borderlands and i ...        65   \n",
       "\n",
       "   num_words  num_sentences  \n",
       "0         14              1  \n",
       "1         12              1  \n",
       "2         12              1  \n",
       "3         14              1  \n",
       "4         12              1  "
      ]
     },
     "execution_count": 204,
     "metadata": {},
     "output_type": "execute_result"
    }
   ],
   "source": [
    "df.head()"
   ]
  },
  {
   "cell_type": "code",
   "execution_count": 205,
   "id": "61c7156c-2dca-4e24-a092-96e3e9069c47",
   "metadata": {},
   "outputs": [
    {
     "data": {
      "text/html": [
       "<div>\n",
       "<style scoped>\n",
       "    .dataframe tbody tr th:only-of-type {\n",
       "        vertical-align: middle;\n",
       "    }\n",
       "\n",
       "    .dataframe tbody tr th {\n",
       "        vertical-align: top;\n",
       "    }\n",
       "\n",
       "    .dataframe thead th {\n",
       "        text-align: right;\n",
       "    }\n",
       "</style>\n",
       "<table border=\"1\" class=\"dataframe\">\n",
       "  <thead>\n",
       "    <tr style=\"text-align: right;\">\n",
       "      <th></th>\n",
       "      <th>num_char</th>\n",
       "      <th>num_words</th>\n",
       "      <th>num_sentences</th>\n",
       "    </tr>\n",
       "  </thead>\n",
       "  <tbody>\n",
       "    <tr>\n",
       "      <th>count</th>\n",
       "      <td>71655.000000</td>\n",
       "      <td>71655.000000</td>\n",
       "      <td>71655.000000</td>\n",
       "    </tr>\n",
       "    <tr>\n",
       "      <th>mean</th>\n",
       "      <td>123.629614</td>\n",
       "      <td>24.491927</td>\n",
       "      <td>1.956905</td>\n",
       "    </tr>\n",
       "    <tr>\n",
       "      <th>std</th>\n",
       "      <td>79.378490</td>\n",
       "      <td>17.168633</td>\n",
       "      <td>1.636142</td>\n",
       "    </tr>\n",
       "    <tr>\n",
       "      <th>min</th>\n",
       "      <td>6.000000</td>\n",
       "      <td>1.000000</td>\n",
       "      <td>1.000000</td>\n",
       "    </tr>\n",
       "    <tr>\n",
       "      <th>25%</th>\n",
       "      <td>62.000000</td>\n",
       "      <td>12.000000</td>\n",
       "      <td>1.000000</td>\n",
       "    </tr>\n",
       "    <tr>\n",
       "      <th>50%</th>\n",
       "      <td>106.000000</td>\n",
       "      <td>20.000000</td>\n",
       "      <td>1.000000</td>\n",
       "    </tr>\n",
       "    <tr>\n",
       "      <th>75%</th>\n",
       "      <td>168.000000</td>\n",
       "      <td>34.000000</td>\n",
       "      <td>2.000000</td>\n",
       "    </tr>\n",
       "    <tr>\n",
       "      <th>max</th>\n",
       "      <td>978.000000</td>\n",
       "      <td>202.000000</td>\n",
       "      <td>33.000000</td>\n",
       "    </tr>\n",
       "  </tbody>\n",
       "</table>\n",
       "</div>"
      ],
      "text/plain": [
       "           num_char     num_words  num_sentences\n",
       "count  71655.000000  71655.000000   71655.000000\n",
       "mean     123.629614     24.491927       1.956905\n",
       "std       79.378490     17.168633       1.636142\n",
       "min        6.000000      1.000000       1.000000\n",
       "25%       62.000000     12.000000       1.000000\n",
       "50%      106.000000     20.000000       1.000000\n",
       "75%      168.000000     34.000000       2.000000\n",
       "max      978.000000    202.000000      33.000000"
      ]
     },
     "execution_count": 205,
     "metadata": {},
     "output_type": "execute_result"
    }
   ],
   "source": [
    "df.describe()"
   ]
  },
  {
   "cell_type": "code",
   "execution_count": 206,
   "id": "487f8a7a-b0e7-4508-847e-030bbc0740de",
   "metadata": {},
   "outputs": [
    {
     "data": {
      "image/png": "[encoded data removed]",
      "text/plain": [
       "<Figure size 640x480 with 1 Axes>"
      ]
     },
     "metadata": {},
     "output_type": "display_data"
    }
   ],
   "source": [
    "sns.boxplot(x=\"Sentiment\", y=\"num_char\", data=df )\n",
    "plt.show()"
   ]
  },
  {
   "cell_type": "code",
   "execution_count": 207,
   "id": "8907e42d-dc6b-47e9-8cff-5dc4b2b64ff2",
   "metadata": {},
   "outputs": [
    {
     "data": {
      "image/png": "[encoded data removed]",
      "text/plain": [
       "<Figure size 640x480 with 1 Axes>"
      ]
     },
     "metadata": {},
     "output_type": "display_data"
    }
   ],
   "source": [
    "sns.boxplot(x=\"Sentiment\", y=\"num_words\", data=df )\n",
    "plt.show()"
   ]
  },
  {
   "cell_type": "code",
   "execution_count": 209,
   "id": "ca987fd0-effd-4ddf-89ce-83f116c63135",
   "metadata": {},
   "outputs": [
    {
     "data": {
      "image/png": "[encoded data removed]",
      "text/plain": [
       "<Figure size 640x480 with 1 Axes>"
      ]
     },
     "metadata": {},
     "output_type": "display_data"
    }
   ],
   "source": [
    "sns.boxplot(x=\"Sentiment\", y=\"num_sentences\", data=df )\n",
    "plt.show()"
   ]
  },
  {
   "cell_type": "code",
   "execution_count": 35,
   "id": "15de4fec-57d7-48bf-b4f4-b8043a6f50b4",
   "metadata": {},
   "outputs": [],
   "source": [
    "from sklearn.preprocessing import LabelEncoder\n",
    "le=LabelEncoder()\n",
    "df['Sentiment']=le.fit_transform(df['Sentiment'])"
   ]
  },
  {
   "cell_type": "code",
   "execution_count": 218,
   "id": "cd3d1aa0-07ab-4f9d-945f-f4810d7c9d9f",
   "metadata": {},
   "outputs": [
    {
     "data": {
      "text/plain": [
       "<Axes: >"
      ]
     },
     "execution_count": 218,
     "metadata": {},
     "output_type": "execute_result"
    },
    {
     "data": {
      "image/png": "[encoded data removed]",
      "text/plain": [
       "<Figure size 640x480 with 2 Axes>"
      ]
     },
     "metadata": {},
     "output_type": "display_data"
    }
   ],
   "source": [
    "sns.heatmap(df[['num_char','num_words','num_sentences','Sentiment']].corr(),annot=True)"
   ]
  },
  {
   "cell_type": "code",
   "execution_count": 220,
   "id": "54046756-2bbc-43aa-98c3-b0af8c289c90",
   "metadata": {},
   "outputs": [],
   "source": [
    "df=df.drop(columns=['num_char','num_words','num_sentences'])"
   ]
  },
  {
   "cell_type": "code",
   "execution_count": 37,
   "id": "d310a470-15bb-4c5e-852b-6d847a74b94f",
   "metadata": {},
   "outputs": [
    {
     "data": {
      "text/html": [
       "<div>\n",
       "<style scoped>\n",
       "    .dataframe tbody tr th:only-of-type {\n",
       "        vertical-align: middle;\n",
       "    }\n",
       "\n",
       "    .dataframe tbody tr th {\n",
       "        vertical-align: top;\n",
       "    }\n",
       "\n",
       "    .dataframe thead th {\n",
       "        text-align: right;\n",
       "    }\n",
       "</style>\n",
       "<table border=\"1\" class=\"dataframe\">\n",
       "  <thead>\n",
       "    <tr style=\"text-align: right;\">\n",
       "      <th></th>\n",
       "      <th>Sentiment</th>\n",
       "      <th>Tweet</th>\n",
       "    </tr>\n",
       "  </thead>\n",
       "  <tbody>\n",
       "    <tr>\n",
       "      <th>0</th>\n",
       "      <td>3</td>\n",
       "      <td>Borderlands I am coming to the borders and I w...</td>\n",
       "    </tr>\n",
       "    <tr>\n",
       "      <th>1</th>\n",
       "      <td>3</td>\n",
       "      <td>Borderlands im getting on borderlands and i wi...</td>\n",
       "    </tr>\n",
       "    <tr>\n",
       "      <th>2</th>\n",
       "      <td>3</td>\n",
       "      <td>Borderlands im coming on borderlands and i wil...</td>\n",
       "    </tr>\n",
       "    <tr>\n",
       "      <th>3</th>\n",
       "      <td>3</td>\n",
       "      <td>Borderlands im getting on borderlands 2 and i ...</td>\n",
       "    </tr>\n",
       "    <tr>\n",
       "      <th>4</th>\n",
       "      <td>3</td>\n",
       "      <td>Borderlands im getting into borderlands and i ...</td>\n",
       "    </tr>\n",
       "  </tbody>\n",
       "</table>\n",
       "</div>"
      ],
      "text/plain": [
       "   Sentiment                                              Tweet\n",
       "0          3  Borderlands I am coming to the borders and I w...\n",
       "1          3  Borderlands im getting on borderlands and i wi...\n",
       "2          3  Borderlands im coming on borderlands and i wil...\n",
       "3          3  Borderlands im getting on borderlands 2 and i ...\n",
       "4          3  Borderlands im getting into borderlands and i ..."
      ]
     },
     "execution_count": 37,
     "metadata": {},
     "output_type": "execute_result"
    }
   ],
   "source": [
    "df.head()"
   ]
  },
  {
   "cell_type": "markdown",
   "id": "557761f0-7e53-4f32-8da0-bc27349d0a4a",
   "metadata": {},
   "source": [
    "# Text Preprocessing"
   ]
  },
  {
   "cell_type": "markdown",
   "id": "e1c0e4ec-e007-44de-a385-fa6b0e0abc61",
   "metadata": {},
   "source": [
    "1) Convert String to lower case\n",
    "2) Keep the words which are alphanumeric and remove the special characters\n",
    "3) Remove punctuation\n",
    "4) Remove stopwords\n",
    "5) Lemmatize the words to get the base word "
   ]
  },
  {
   "cell_type": "code",
   "execution_count": 41,
   "id": "7f3c477a-30e6-4980-b4f3-ba9562e41cb5",
   "metadata": {},
   "outputs": [],
   "source": [
    "from nltk.corpus import stopwords\n",
    "from nltk.stem import WordNetLemmatizer\n",
    "lemmatizer = WordNetLemmatizer()"
   ]
  },
  {
   "cell_type": "code",
   "execution_count": 43,
   "id": "aa2ae11b-cdfd-419a-817b-9db6da744b99",
   "metadata": {},
   "outputs": [],
   "source": [
    "def preprocess(text):\n",
    "    text=text.lower()\n",
    "    words=nltk.word_tokenize(text)\n",
    "    cleanText=[]\n",
    "    for i in words:\n",
    "        if  i.isalnum() and  i not in string.punctuation and i not in stopwords.words('english'):\n",
    "            i=lemmatizer.lemmatize(i)\n",
    "            cleanText.append(i)\n",
    "    \n",
    "    return \" \".join(cleanText)"
   ]
  },
  {
   "cell_type": "code",
   "execution_count": 45,
   "id": "9d950b68-98ea-43f5-8b5c-0415505cb6b9",
   "metadata": {},
   "outputs": [],
   "source": [
    "df['Tweet']=df['Tweet'].apply(preprocess)"
   ]
  },
  {
   "cell_type": "code",
   "execution_count": 46,
   "id": "74a215fa-878f-4083-a645-dc8d3b161339",
   "metadata": {},
   "outputs": [
    {
     "data": {
      "text/html": [
       "<div>\n",
       "<style scoped>\n",
       "    .dataframe tbody tr th:only-of-type {\n",
       "        vertical-align: middle;\n",
       "    }\n",
       "\n",
       "    .dataframe tbody tr th {\n",
       "        vertical-align: top;\n",
       "    }\n",
       "\n",
       "    .dataframe thead th {\n",
       "        text-align: right;\n",
       "    }\n",
       "</style>\n",
       "<table border=\"1\" class=\"dataframe\">\n",
       "  <thead>\n",
       "    <tr style=\"text-align: right;\">\n",
       "      <th></th>\n",
       "      <th>Sentiment</th>\n",
       "      <th>Tweet</th>\n",
       "    </tr>\n",
       "  </thead>\n",
       "  <tbody>\n",
       "    <tr>\n",
       "      <th>0</th>\n",
       "      <td>3</td>\n",
       "      <td>borderland coming border kill</td>\n",
       "    </tr>\n",
       "    <tr>\n",
       "      <th>1</th>\n",
       "      <td>3</td>\n",
       "      <td>borderland im getting borderland kill</td>\n",
       "    </tr>\n",
       "    <tr>\n",
       "      <th>2</th>\n",
       "      <td>3</td>\n",
       "      <td>borderland im coming borderland murder</td>\n",
       "    </tr>\n",
       "    <tr>\n",
       "      <th>3</th>\n",
       "      <td>3</td>\n",
       "      <td>borderland im getting borderland 2 murder</td>\n",
       "    </tr>\n",
       "    <tr>\n",
       "      <th>4</th>\n",
       "      <td>3</td>\n",
       "      <td>borderland im getting borderland murder</td>\n",
       "    </tr>\n",
       "  </tbody>\n",
       "</table>\n",
       "</div>"
      ],
      "text/plain": [
       "   Sentiment                                      Tweet\n",
       "0          3              borderland coming border kill\n",
       "1          3      borderland im getting borderland kill\n",
       "2          3     borderland im coming borderland murder\n",
       "3          3  borderland im getting borderland 2 murder\n",
       "4          3    borderland im getting borderland murder"
      ]
     },
     "execution_count": 46,
     "metadata": {},
     "output_type": "execute_result"
    }
   ],
   "source": [
    "df.head()"
   ]
  },
  {
   "cell_type": "markdown",
   "id": "3f982304-4a6d-46e0-b99b-d70ec3ce2d7a",
   "metadata": {},
   "source": [
    "# Converting tweet to vectors"
   ]
  },
  {
   "cell_type": "markdown",
   "id": "a2b45384-29e0-4216-a5e3-dbcaa5716ada",
   "metadata": {},
   "source": [
    "## Bag of words"
   ]
  },
  {
   "cell_type": "code",
   "execution_count": 47,
   "id": "d163b673-dd4b-4fa5-be15-a4527dec1aa1",
   "metadata": {},
   "outputs": [],
   "source": [
    "from sklearn.feature_extraction.text import CountVectorizer\n",
    "cv=CountVectorizer(ngram_range=(1, 3),max_features=25000)\n",
    "X_train=cv.fit_transform(df['Tweet']).toarray()"
   ]
  },
  {
   "cell_type": "code",
   "execution_count": 48,
   "id": "7ff192e0-3ba3-49f7-892e-88c31304f884",
   "metadata": {},
   "outputs": [],
   "source": [
    "y_train=df['Sentiment']"
   ]
  },
  {
   "cell_type": "code",
   "execution_count": 49,
   "id": "c9356832-a7c4-49e0-985f-4edda415d495",
   "metadata": {},
   "outputs": [],
   "source": [
    "validation_df=pd.read_csv(\"twitter_validation.csv\")"
   ]
  },
  {
   "cell_type": "code",
   "execution_count": 50,
   "id": "d643f7cc-aac6-41ad-8af0-eb009dd845c0",
   "metadata": {},
   "outputs": [],
   "source": [
    "validation_df.columns=[\"Id\",\"Entity\",\"Sentiment\",\"Tweet\"]"
   ]
  },
  {
   "cell_type": "code",
   "execution_count": 51,
   "id": "66fa4750-62ca-408c-99c8-0d29c1157b20",
   "metadata": {},
   "outputs": [],
   "source": [
    "validation_df['Tweet']=validation_df['Entity']+\" \"+validation_df['Tweet']\n",
    "validation_df['Sentiment']=le.transform(validation_df['Sentiment'])"
   ]
  },
  {
   "cell_type": "code",
   "execution_count": 52,
   "id": "1730e6cb-8992-4390-af17-96d66e1ec484",
   "metadata": {},
   "outputs": [],
   "source": [
    "validation_df=validation_df.drop(columns=['Id','Entity'])"
   ]
  },
  {
   "cell_type": "code",
   "execution_count": 53,
   "id": "db74d935-7185-467e-9696-12d9219ffebc",
   "metadata": {},
   "outputs": [
    {
     "data": {
      "text/html": [
       "<div>\n",
       "<style scoped>\n",
       "    .dataframe tbody tr th:only-of-type {\n",
       "        vertical-align: middle;\n",
       "    }\n",
       "\n",
       "    .dataframe tbody tr th {\n",
       "        vertical-align: top;\n",
       "    }\n",
       "\n",
       "    .dataframe thead th {\n",
       "        text-align: right;\n",
       "    }\n",
       "</style>\n",
       "<table border=\"1\" class=\"dataframe\">\n",
       "  <thead>\n",
       "    <tr style=\"text-align: right;\">\n",
       "      <th></th>\n",
       "      <th>Sentiment</th>\n",
       "      <th>Tweet</th>\n",
       "    </tr>\n",
       "  </thead>\n",
       "  <tbody>\n",
       "    <tr>\n",
       "      <th>0</th>\n",
       "      <td>2</td>\n",
       "      <td>Amazon BBC News - Amazon boss Jeff Bezos rejec...</td>\n",
       "    </tr>\n",
       "    <tr>\n",
       "      <th>1</th>\n",
       "      <td>1</td>\n",
       "      <td>Microsoft @Microsoft Why do I pay for WORD whe...</td>\n",
       "    </tr>\n",
       "    <tr>\n",
       "      <th>2</th>\n",
       "      <td>1</td>\n",
       "      <td>CS-GO CSGO matchmaking is so full of closet ha...</td>\n",
       "    </tr>\n",
       "    <tr>\n",
       "      <th>3</th>\n",
       "      <td>2</td>\n",
       "      <td>Google Now the President is slapping Americans...</td>\n",
       "    </tr>\n",
       "    <tr>\n",
       "      <th>4</th>\n",
       "      <td>1</td>\n",
       "      <td>FIFA Hi @EAHelp I’ve had Madeleine McCann in m...</td>\n",
       "    </tr>\n",
       "  </tbody>\n",
       "</table>\n",
       "</div>"
      ],
      "text/plain": [
       "   Sentiment                                              Tweet\n",
       "0          2  Amazon BBC News - Amazon boss Jeff Bezos rejec...\n",
       "1          1  Microsoft @Microsoft Why do I pay for WORD whe...\n",
       "2          1  CS-GO CSGO matchmaking is so full of closet ha...\n",
       "3          2  Google Now the President is slapping Americans...\n",
       "4          1  FIFA Hi @EAHelp I’ve had Madeleine McCann in m..."
      ]
     },
     "execution_count": 53,
     "metadata": {},
     "output_type": "execute_result"
    }
   ],
   "source": [
    "validation_df.head()"
   ]
  },
  {
   "cell_type": "code",
   "execution_count": 56,
   "id": "28c6af48-0226-412b-a55b-c5ed6e6d327e",
   "metadata": {},
   "outputs": [],
   "source": [
    "validation_df['Tweet']=validation_df['Tweet'].apply(preprocess)\n",
    "X_test=cv.transform(validation_df['Tweet']).toarray()\n",
    "y_test=validation_df['Sentiment']"
   ]
  },
  {
   "cell_type": "code",
   "execution_count": 74,
   "id": "9bd61b48-8258-42db-85e9-78a9e103e6ee",
   "metadata": {},
   "outputs": [],
   "source": [
    "from sklearn.linear_model import LogisticRegression"
   ]
  },
  {
   "cell_type": "code",
   "execution_count": null,
   "id": "7c839492-12b6-4275-b16d-a65b1657a047",
   "metadata": {},
   "outputs": [],
   "source": [
    "LR = LogisticRegression(max_iter=100)\n",
    "LR.fit(X_train, y_train)"
   ]
  },
  {
   "cell_type": "code",
   "execution_count": null,
   "id": "8af53e1f-9261-4a11-bd87-f0b3cdd706cf",
   "metadata": {},
   "outputs": [],
   "source": [
    "y_pred=LR.predict(X_test)\n",
    "print(accuracy_score(y_test,y_pred))\n",
    "print(f1_score(y_test,y_pred,average='weighted'))"
   ]
  },
  {
   "cell_type": "code",
   "execution_count": null,
   "id": "eb94c0bf-8859-4f6d-aff9-e0ee9a82d904",
   "metadata": {},
   "outputs": [],
   "source": []
  },
  {
   "cell_type": "code",
   "execution_count": 70,
   "id": "558cb486-ad19-47c3-9a91-6a307de61958",
   "metadata": {},
   "outputs": [],
   "source": [
    "from sklearn.naive_bayes import MultinomialNB\n",
    "from sklearn.metrics import accuracy_score,f1_score"
   ]
  },
  {
   "cell_type": "code",
   "execution_count": 243,
   "id": "2c7e52ba-e13a-4435-8d54-9b0278c37618",
   "metadata": {},
   "outputs": [],
   "source": [
    "mnb=MultinomialNB()"
   ]
  },
  {
   "cell_type": "code",
   "execution_count": 244,
   "id": "554530ef-44ac-49c8-9d67-82498e3e2d3d",
   "metadata": {},
   "outputs": [
    {
     "name": "stdout",
     "output_type": "stream",
     "text": [
      "(71655, 10000)\n",
      "(71655,)\n",
      "(999, 10000)\n",
      "(999,)\n"
     ]
    }
   ],
   "source": [
    "print(X_train.shape)\n",
    "print(y_train.shape)\n",
    "print(X_test.shape)\n",
    "print(y_test.shape)"
   ]
  },
  {
   "cell_type": "code",
   "execution_count": 245,
   "id": "fcdf910d-6463-433e-9ff2-c23dd26a81be",
   "metadata": {},
   "outputs": [
    {
     "name": "stdout",
     "output_type": "stream",
     "text": [
      "0.7297297297297297\n",
      "0.7288023069153755\n"
     ]
    }
   ],
   "source": [
    "mnb.fit(X_train,y_train)\n",
    "y_pred=mnb.predict(X_test)\n",
    "print(accuracy_score(y_test,y_pred))\n",
    "print(f1_score(y_test,y_pred,average='weighted'))"
   ]
  },
  {
   "cell_type": "code",
   "execution_count": 246,
   "id": "da467bac-b688-4dfc-b8ad-e7c9804c3b4f",
   "metadata": {},
   "outputs": [],
   "source": [
    "from sklearn.feature_extraction.text import TfidfVectorizer\n",
    "tf_idf=TfidfVectorizer(max_features=10000)\n",
    "X_train=tf_idf.fit_transform(df['Tweet']).toarray()"
   ]
  },
  {
   "cell_type": "code",
   "execution_count": 247,
   "id": "488cf09d-5e8b-446a-ae47-81cdc1666e83",
   "metadata": {},
   "outputs": [],
   "source": [
    "X_test=tf_idf.transform(validation_df['Tweet']).toarray()"
   ]
  },
  {
   "cell_type": "code",
   "execution_count": 249,
   "id": "1953c927-3869-46b9-b097-e738fdaceca2",
   "metadata": {},
   "outputs": [
    {
     "name": "stdout",
     "output_type": "stream",
     "text": [
      "0.7647647647647647\n",
      "0.7621165126551714\n"
     ]
    }
   ],
   "source": [
    "mnb.fit(X_train,y_train)\n",
    "y_pred=mnb.predict(X_test)\n",
    "print(accuracy_score(y_test,y_pred))\n",
    "print(f1_score(y_test,y_pred,average='weighted'))"
   ]
  },
  {
   "cell_type": "code",
   "execution_count": 251,
   "id": "d6ea3062-aec1-4ae0-9e62-c503b29d85cc",
   "metadata": {},
   "outputs": [],
   "source": [
    "from sklearn.ensemble import RandomForestClassifier\n",
    "rfc=RandomForestClassifier(n_estimators=50)"
   ]
  },
  {
   "cell_type": "code",
   "execution_count": 253,
   "id": "486f4eef-d6c4-4756-9e54-f4e1f1d940a6",
   "metadata": {},
   "outputs": [],
   "source": [
    "tf_idf=TfidfVectorizer()\n",
    "X_train=tf_idf.fit_transform(df['Tweet']).toarray()\n",
    "\n",
    "X_test=tf_idf.transform(validation_df['Tweet']).toarray()"
   ]
  },
  {
   "cell_type": "code",
   "execution_count": null,
   "id": "e64503d5-ce18-4260-9a4a-107fec27b51c",
   "metadata": {},
   "outputs": [],
   "source": [
    "rfc.fit(X_train,y_train)\n",
    "y_pred=rfc.predict(X_test)\n",
    "print(accuracy_score(y_test,y_pred))\n",
    "print(f1_score(y_test,y_pred,average='weighted'))"
   ]
  },
  {
   "cell_type": "markdown",
   "id": "03fbf8eb-be91-48a1-8f4c-10866b409e80",
   "metadata": {},
   "source": [
    "# Dataset is slighly imbalanced so weighted f1 score is a good metric to use"
   ]
  },
  {
   "cell_type": "code",
   "execution_count": null,
   "id": "942388d5-e372-4b9e-a5f9-afeef9876163",
   "metadata": {},
   "outputs": [],
   "source": []
  },
  {
   "cell_type": "code",
   "execution_count": null,
   "id": "c9206dfa-320a-4a53-b92b-53048bf6d18a",
   "metadata": {},
   "outputs": [],
   "source": []
  },
  {
   "cell_type": "code",
   "execution_count": null,
   "id": "ecb083d5-cdf9-4928-9e08-af77a3cc9777",
   "metadata": {},
   "outputs": [],
   "source": []
  }
 ],
 "metadata": {
  "kernelspec": {
   "display_name": "Python 3 (ipykernel)",
   "language": "python",
   "name": "python3"
  },
  "language_info": {
   "codemirror_mode": {
    "name": "ipython",
    "version": 3
   },
   "file_extension": ".py",
   "mimetype": "text/x-python",
   "name": "python",
   "nbconvert_exporter": "python",
   "pygments_lexer": "ipython3",
   "version": "3.11.5"
  }
 },
 "nbformat": 4,
 "nbformat_minor": 5
}
